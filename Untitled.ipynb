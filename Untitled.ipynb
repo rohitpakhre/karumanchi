{
 "cells": [
  {
   "cell_type": "code",
   "execution_count": 1,
   "id": "363b4ada-37ea-4492-b84d-22951d91a944",
   "metadata": {},
   "outputs": [
    {
     "ename": "SyntaxError",
     "evalue": "invalid syntax (<ipython-input-1-57dc0a174097>, line 6)",
     "output_type": "error",
     "traceback": [
      "\u001b[1;36m  File \u001b[1;32m\"<ipython-input-1-57dc0a174097>\"\u001b[1;36m, line \u001b[1;32m6\u001b[0m\n\u001b[1;33m    def print_sikandra(self , x)\u001b[0m\n\u001b[1;37m                                ^\u001b[0m\n\u001b[1;31mSyntaxError\u001b[0m\u001b[1;31m:\u001b[0m invalid syntax\n"
     ]
    }
   ],
   "source": [
    "class xyx:\n",
    "    def __init__(self):\n",
    "        pass\n",
    "    def print_ajitnal(self, x):\n",
    "        print(x)\n",
    "    def print_sikandra(self , x):\n",
    "        print(x)\n",
    "\n",
    "if __name__ == \"__main__\":\n",
    "    obj = xyx()\n",
    "    obj.print_ajitnal(\"Vishal chak\")\n"
   ]
  },
  {
   "cell_type": "code",
   "execution_count": 2,
   "id": "f19ef3d8-d404-4a18-8df2-de6fcbb0cd49",
   "metadata": {},
   "outputs": [
    {
     "name": "stdout",
     "output_type": "stream",
     "text": [
      "0\n",
      "1\n",
      "2\n",
      "3\n",
      "4\n",
      "5\n",
      "6\n",
      "7\n",
      "8\n",
      "9\n",
      "10\n",
      "11\n",
      "12\n",
      "13\n",
      "14\n",
      "15\n",
      "16\n",
      "17\n",
      "18\n",
      "19\n"
     ]
    }
   ],
   "source": [
    "fruits =[1000]\n",
    "for x in range (0,20):\n",
    "    print(x)"
   ]
  },
  {
   "cell_type": "code",
   "execution_count": null,
   "id": "5564df6f-86bd-49b4-9356-cd8cfe6f4e4d",
   "metadata": {},
   "outputs": [],
   "source": []
  },
  {
   "cell_type": "code",
   "execution_count": null,
   "id": "fcea4256-63f8-459c-a308-0221656a5a67",
   "metadata": {},
   "outputs": [],
   "source": []
  },
  {
   "cell_type": "code",
   "execution_count": null,
   "id": "914b0794-c7aa-4639-aa19-e0326de4732e",
   "metadata": {},
   "outputs": [],
   "source": []
  }
 ],
 "metadata": {
  "kernelspec": {
   "display_name": "Python 3",
   "language": "python",
   "name": "python3"
  },
  "language_info": {
   "codemirror_mode": {
    "name": "ipython",
    "version": 3
   },
   "file_extension": ".py",
   "mimetype": "text/x-python",
   "name": "python",
   "nbconvert_exporter": "python",
   "pygments_lexer": "ipython3",
   "version": "3.8.8"
  }
 },
 "nbformat": 4,
 "nbformat_minor": 5
}
